{
  "nbformat": 4,
  "nbformat_minor": 0,
  "metadata": {
    "colab": {
      "provenance": [],
      "authorship_tag": "ABX9TyMPNo+NMI/NkTba1RYfOHJM",
      "include_colab_link": true
    },
    "kernelspec": {
      "name": "python3",
      "display_name": "Python 3"
    },
    "language_info": {
      "name": "python"
    }
  },
  "cells": [
    {
      "cell_type": "markdown",
      "metadata": {
        "id": "view-in-github",
        "colab_type": "text"
      },
      "source": [
        "<a href=\"https://colab.research.google.com/github/lifelearner2/Hacktoberfest2023/blob/main/Copy_of_web_scraper.ipynb\" target=\"_parent\"><img src=\"https://colab.research.google.com/assets/colab-badge.svg\" alt=\"Open In Colab\"/></a>"
      ]
    },
    {
      "cell_type": "code",
      "execution_count": null,
      "metadata": {
        "id": "eSdas1PpjYyL"
      },
      "outputs": [],
      "source": [
        "import requests\n",
        "from bs4 import BeautifulSoup\n"
      ]
    },
    {
      "cell_type": "code",
      "source": [
        "url = \"http://books.toscrape.com/index.html\"\n",
        "response = requests.get(url)\n",
        "html = response.content\n",
        "scraped = BeautifulSoup(html, 'html.parser')"
      ],
      "metadata": {
        "id": "71iMtuMcjhBM"
      },
      "execution_count": null,
      "outputs": []
    },
    {
      "cell_type": "code",
      "source": [
        "scraped.title.text.strip()"
      ],
      "metadata": {
        "colab": {
          "base_uri": "https://localhost:8080/",
          "height": 35
        },
        "id": "KUJ2r-hWkL-2",
        "outputId": "30b88eca-5b23-4231-a1ca-8e1fcfef08bf"
      },
      "execution_count": null,
      "outputs": [
        {
          "output_type": "execute_result",
          "data": {
            "text/plain": [
              "'All products | Books to Scrape - Sandbox'"
            ],
            "application/vnd.google.colaboratory.intrinsic+json": {
              "type": "string"
            }
          },
          "metadata": {},
          "execution_count": 3
        }
      ]
    },
    {
      "cell_type": "code",
      "source": [
        "link_text = scraped.h3.a['title']\n",
        "link_text"
      ],
      "metadata": {
        "colab": {
          "base_uri": "https://localhost:8080/",
          "height": 35
        },
        "id": "VtIBPkYSkdN-",
        "outputId": "0349a216-4a7c-4d49-b812-852685d4f4c2"
      },
      "execution_count": null,
      "outputs": [
        {
          "output_type": "execute_result",
          "data": {
            "text/plain": [
              "'A Light in the Attic'"
            ],
            "application/vnd.google.colaboratory.intrinsic+json": {
              "type": "string"
            }
          },
          "metadata": {},
          "execution_count": 4
        }
      ]
    },
    {
      "cell_type": "code",
      "source": [
        "items = scraped.find_all('article', class_='product_pod')\n",
        "for item in items:\n",
        "  title = item.h3.a['title']\n",
        "  print(title)"
      ],
      "metadata": {
        "colab": {
          "base_uri": "https://localhost:8080/"
        },
        "id": "pTuXp3lRklVl",
        "outputId": "4ed85bc4-7121-472c-e0d5-e488bc19ca2b"
      },
      "execution_count": null,
      "outputs": [
        {
          "output_type": "stream",
          "name": "stdout",
          "text": [
            "A Light in the Attic\n",
            "Tipping the Velvet\n",
            "Soumission\n",
            "Sharp Objects\n",
            "Sapiens: A Brief History of Humankind\n",
            "The Requiem Red\n",
            "The Dirty Little Secrets of Getting Your Dream Job\n",
            "The Coming Woman: A Novel Based on the Life of the Infamous Feminist, Victoria Woodhull\n",
            "The Boys in the Boat: Nine Americans and Their Epic Quest for Gold at the 1936 Berlin Olympics\n",
            "The Black Maria\n",
            "Starving Hearts (Triangular Trade Trilogy, #1)\n",
            "Shakespeare's Sonnets\n",
            "Set Me Free\n",
            "Scott Pilgrim's Precious Little Life (Scott Pilgrim #1)\n",
            "Rip it Up and Start Again\n",
            "Our Band Could Be Your Life: Scenes from the American Indie Underground, 1981-1991\n",
            "Olio\n",
            "Mesaerion: The Best Science Fiction Stories 1800-1849\n",
            "Libertarianism for Beginners\n",
            "It's Only the Himalayas\n"
          ]
        }
      ]
    },
    {
      "cell_type": "code",
      "source": [
        "## getting all the prices"
      ],
      "metadata": {
        "id": "axcvvn2nkzJp"
      },
      "execution_count": null,
      "outputs": []
    },
    {
      "cell_type": "code",
      "source": [
        "prices = scraped.select('.price_color')\n",
        "for price in prices:\n",
        "  print(price.text)"
      ],
      "metadata": {
        "colab": {
          "base_uri": "https://localhost:8080/"
        },
        "id": "Z3sgov5UlhxF",
        "outputId": "c36ad52a-0a05-4597-b961-5f7db3443e5d"
      },
      "execution_count": null,
      "outputs": [
        {
          "output_type": "stream",
          "name": "stdout",
          "text": [
            "£51.77\n",
            "£53.74\n",
            "£50.10\n",
            "£47.82\n",
            "£54.23\n",
            "£22.65\n",
            "£33.34\n",
            "£17.93\n",
            "£22.60\n",
            "£52.15\n",
            "£13.99\n",
            "£20.66\n",
            "£17.46\n",
            "£52.29\n",
            "£35.02\n",
            "£57.25\n",
            "£23.88\n",
            "£37.59\n",
            "£51.33\n",
            "£45.17\n"
          ]
        }
      ]
    },
    {
      "cell_type": "code",
      "source": [
        "for price in prices:\n",
        "  price = float(price.text.lstrip(\"£\"))\n",
        "  print(price)"
      ],
      "metadata": {
        "colab": {
          "base_uri": "https://localhost:8080/"
        },
        "id": "i5jRFQfMlv25",
        "outputId": "c758ddaf-fde1-4601-ba0b-4efde1a28802"
      },
      "execution_count": null,
      "outputs": [
        {
          "output_type": "stream",
          "name": "stdout",
          "text": [
            "51.77\n",
            "53.74\n",
            "50.1\n",
            "47.82\n",
            "54.23\n",
            "22.65\n",
            "33.34\n",
            "17.93\n",
            "22.6\n",
            "52.15\n",
            "13.99\n",
            "20.66\n",
            "17.46\n",
            "52.29\n",
            "35.02\n",
            "57.25\n",
            "23.88\n",
            "37.59\n",
            "51.33\n",
            "45.17\n"
          ]
        }
      ]
    },
    {
      "cell_type": "code",
      "source": [
        "type(price)"
      ],
      "metadata": {
        "colab": {
          "base_uri": "https://localhost:8080/"
        },
        "id": "XdvusV-gmIac",
        "outputId": "cad4cd3b-0f3d-4952-f5f0-be939420ab4f"
      },
      "execution_count": null,
      "outputs": [
        {
          "output_type": "execute_result",
          "data": {
            "text/plain": [
              "float"
            ]
          },
          "metadata": {},
          "execution_count": 10
        }
      ]
    },
    {
      "cell_type": "code",
      "source": [],
      "metadata": {
        "id": "esHeGiMWmgek"
      },
      "execution_count": null,
      "outputs": []
    }
  ]
}