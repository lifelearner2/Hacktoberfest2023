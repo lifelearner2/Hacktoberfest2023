{
  "nbformat": 4,
  "nbformat_minor": 0,
  "metadata": {
    "colab": {
      "provenance": [],
      "authorship_tag": "ABX9TyMODAjecTBaXNYyO1eaG47p",
      "include_colab_link": true
    },
    "kernelspec": {
      "name": "python3",
      "display_name": "Python 3"
    },
    "language_info": {
      "name": "python"
    }
  },
  "cells": [
    {
      "cell_type": "markdown",
      "metadata": {
        "id": "view-in-github",
        "colab_type": "text"
      },
      "source": [
        "<a href=\"https://colab.research.google.com/github/lifelearner2/Hacktoberfest2023/blob/main/Copy_of_Python_Code_Jam_Session_1.ipynb\" target=\"_parent\"><img src=\"https://colab.research.google.com/assets/colab-badge.svg\" alt=\"Open In Colab\"/></a>"
      ]
    },
    {
      "cell_type": "code",
      "execution_count": null,
      "metadata": {
        "id": "LQWNnsjj3c8y"
      },
      "outputs": [],
      "source": []
    },
    {
      "cell_type": "markdown",
      "source": [
        "Write a program to find sum of all elements in a list.\n"
      ],
      "metadata": {
        "id": "ml_sxUCV3o6F"
      }
    },
    {
      "cell_type": "code",
      "source": [
        "#Approach 1\n",
        "#Time Complexity: verify what we are entering in algorithm - list of elements - 0(n)\n",
        "#Space Complexity: no additional variables 0(1)\n",
        "def sum_list(list):\n",
        "  return sum(list)\n",
        "\n",
        "sum_list([1, -2, 3, -4, 5])"
      ],
      "metadata": {
        "colab": {
          "base_uri": "https://localhost:8080/"
        },
        "id": "UnjiHTij3tvn",
        "outputId": "1055d3fd-53f7-4102-baac-cda99ba739dd"
      },
      "execution_count": null,
      "outputs": [
        {
          "output_type": "execute_result",
          "data": {
            "text/plain": [
              "3"
            ]
          },
          "metadata": {},
          "execution_count": 1
        }
      ]
    },
    {
      "cell_type": "code",
      "source": [
        "#Approach 2\n",
        "#Time: 0(n) - iterating through el in list\n",
        "#Space: 0(1) - no list or iteration - and variable 0 in sum is a constant\n",
        "def sum_list(list):\n",
        "  sum = 0\n",
        "\n",
        "  for el in list:\n",
        "    sum += el\n",
        "  return f'The sum of the elements is {sum}.'\n",
        "\n",
        "sum_list([1, -2, 3, -4, 5])"
      ],
      "metadata": {
        "colab": {
          "base_uri": "https://localhost:8080/",
          "height": 35
        },
        "id": "3FTltkqG4Ggz",
        "outputId": "e3b1f923-13ed-47d2-be15-3895d1ca3332"
      },
      "execution_count": null,
      "outputs": [
        {
          "output_type": "execute_result",
          "data": {
            "text/plain": [
              "'The sum of the elements is 3.'"
            ],
            "application/vnd.google.colaboratory.intrinsic+json": {
              "type": "string"
            }
          },
          "metadata": {},
          "execution_count": 2
        }
      ]
    },
    {
      "cell_type": "code",
      "source": [
        "#Approach 3\n",
        "#time: comparing one element to specific data type and iterating through list - 0(n)\n",
        "#Space: 0(1)\n",
        "def sum_list(list):\n",
        "  sum = 0\n",
        "\n",
        "  for el in list:\n",
        "    if not isinstance(el, int):\n",
        "      print(f'{el} is not an integer and cannont be summed.')\n",
        "      continue\n",
        "    sum += el\n",
        "\n",
        "  return f'The sum of the elements in the list is {sum}.'\n",
        "\n",
        "sum_list([1, -2, 3, -4, 5])"
      ],
      "metadata": {
        "colab": {
          "base_uri": "https://localhost:8080/",
          "height": 35
        },
        "id": "Q97VxDs64vdI",
        "outputId": "2c993dc7-43cf-482e-c100-a8feb6e83996"
      },
      "execution_count": null,
      "outputs": [
        {
          "output_type": "execute_result",
          "data": {
            "text/plain": [
              "'The sum of the elements in the list is 3.'"
            ],
            "application/vnd.google.colaboratory.intrinsic+json": {
              "type": "string"
            }
          },
          "metadata": {},
          "execution_count": 3
        }
      ]
    },
    {
      "cell_type": "markdown",
      "source": [
        "Write a program to find the maximum and minimum values in a list"
      ],
      "metadata": {
        "id": "XbU7X7i856MP"
      }
    },
    {
      "cell_type": "code",
      "source": [
        "#Approach 1\n",
        "#Time: n + n = 2n -> 0(n)\n",
        "#Space: 0(1) - no list where we are storing info\n",
        "def find_max_and_min(list):\n",
        "  min_val = min(list)\n",
        "  max_val = max(list)\n",
        "  return (min_val, max_val)\n",
        "\n",
        "find_max_and_min([1, -2, 3, -4, 5])"
      ],
      "metadata": {
        "colab": {
          "base_uri": "https://localhost:8080/"
        },
        "id": "iUDhSBij7WM6",
        "outputId": "3e5c15d5-f61a-43e0-c6f2-1b9a1d5b6b72"
      },
      "execution_count": null,
      "outputs": [
        {
          "output_type": "execute_result",
          "data": {
            "text/plain": [
              "(-4, 5)"
            ]
          },
          "metadata": {},
          "execution_count": 4
        }
      ]
    },
    {
      "cell_type": "code",
      "source": [
        "#Approach 2\n",
        "#Time: 0(nlogn) - due to sortiing algorothim - all sorting starts with n logn (n is el of list) and logn is ?\n",
        "#space: 0(1)\n",
        "def find_max_and_min(list):\n",
        "  list.sort()\n",
        "  return(list[0], list[-1])\n",
        "\n",
        "find_max_and_min([1, -2, 3, -4, 5])\n"
      ],
      "metadata": {
        "colab": {
          "base_uri": "https://localhost:8080/"
        },
        "id": "oUoPci1d8hhW",
        "outputId": "032b991e-2461-426a-eabe-308aa38b2c0c"
      },
      "execution_count": null,
      "outputs": [
        {
          "output_type": "execute_result",
          "data": {
            "text/plain": [
              "(-4, 5)"
            ]
          },
          "metadata": {},
          "execution_count": 5
        }
      ]
    },
    {
      "cell_type": "code",
      "source": [
        "#Approach 3\n",
        "#Time: 0(n)  iterating once thorugh array\n",
        "#Space: 0(1)\n",
        "def find_max_and_min(list):\n",
        "  min_val = list[0]\n",
        "  max_val = list[0]\n",
        "\n",
        "  for el in list:\n",
        "    if el < min_val:\n",
        "      min_val = el\n",
        "    if el > max_val:\n",
        "      max_val = el\n",
        "\n",
        "  return (min_val, max_val)\n",
        "\n",
        "find_max_and_min([1, -2, 3, -4, 5])\n"
      ],
      "metadata": {
        "colab": {
          "base_uri": "https://localhost:8080/"
        },
        "id": "lpVEAlLY-Cog",
        "outputId": "85b4c12f-30d1-40ea-8bef-8ca79ec5a56e"
      },
      "execution_count": null,
      "outputs": [
        {
          "output_type": "execute_result",
          "data": {
            "text/plain": [
              "(-4, 5)"
            ]
          },
          "metadata": {},
          "execution_count": 6
        }
      ]
    }
  ]
}